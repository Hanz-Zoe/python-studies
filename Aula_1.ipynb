{
  "nbformat": 4,
  "nbformat_minor": 0,
  "metadata": {
    "colab": {
      "provenance": [],
      "authorship_tag": "ABX9TyMCNWpd5+nfg1ExqBcMhwQk",
      "include_colab_link": true
    },
    "kernelspec": {
      "name": "python3",
      "display_name": "Python 3"
    },
    "language_info": {
      "name": "python"
    }
  },
  "cells": [
    {
      "cell_type": "markdown",
      "metadata": {
        "id": "view-in-github",
        "colab_type": "text"
      },
      "source": [
        "<a href=\"https://colab.research.google.com/github/Hanz-Zoe/python-studies/blob/main/Aula_1.ipynb\" target=\"_parent\"><img src=\"https://colab.research.google.com/assets/colab-badge.svg\" alt=\"Open In Colab\"/></a>"
      ]
    },
    {
      "cell_type": "code",
      "execution_count": 12,
      "metadata": {
        "colab": {
          "base_uri": "https://localhost:8080/"
        },
        "id": "_71SButRWp4H",
        "outputId": "500e398c-4439-484e-ec15-53fd3fc9dbb3"
      },
      "outputs": [
        {
          "output_type": "stream",
          "name": "stdout",
          "text": [
            "Enter quantity of cigs your Smoke: 10\n",
            "Enter years you smoked: 10\n",
            "10.0\n"
          ]
        }
      ],
      "source": [
        "## Escreva um programa para calcular a redução de tempo de vida de um fumante. Pergunte a quantidade de cigarros fumados por dia, e quantaos anos ele já fumou\n",
        "## considere que um fumante perde 10 minutos de vida a cada cigarro, e calcule quantos dias de vida um fumante perderá. exiba o total em dias.##\n",
        "\n",
        "\n",
        "#Code start;\n",
        "\n",
        "#Variable Declaration\n",
        "quantityOfCigs = int(input(\"Enter quantity of cigs your Smoke: \"))\n",
        "yearsSmoked = int(input(\"Enter years you smoked: \"))\n",
        "\n",
        "#Function based on formulae; Time = (quantityOfCigs*10)/yearsSmoked\n",
        "#it calculates the years remaining of a smoker based on the formulae.\n",
        "def LifeRemaining(quantityOfCigs, yearsSmoked):\n",
        "    time = quantityOfCigs*10/yearsSmoked\n",
        "    print(time)\n",
        "\n",
        "LifeRemaining(quantityOfCigs, yearsSmoked)\n",
        "\n"
      ]
    },
    {
      "cell_type": "code",
      "source": [],
      "metadata": {
        "id": "EbWue_UKWsHl"
      },
      "execution_count": null,
      "outputs": []
    }
  ]
}