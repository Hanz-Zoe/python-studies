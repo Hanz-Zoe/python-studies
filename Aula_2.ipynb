{
  "nbformat": 4,
  "nbformat_minor": 0,
  "metadata": {
    "colab": {
      "provenance": [],
      "authorship_tag": "ABX9TyPa1ADxrzdV52s94n4uOQga",
      "include_colab_link": true
    },
    "kernelspec": {
      "name": "python3",
      "display_name": "Python 3"
    },
    "language_info": {
      "name": "python"
    }
  },
  "cells": [
    {
      "cell_type": "markdown",
      "metadata": {
        "id": "view-in-github",
        "colab_type": "text"
      },
      "source": [
        "<a href=\"https://colab.research.google.com/github/Hanz-Zoe/python-studies/blob/main/Aula_2.ipynb\" target=\"_parent\"><img src=\"https://colab.research.google.com/assets/colab-badge.svg\" alt=\"Open In Colab\"/></a>"
      ]
    },
    {
      "cell_type": "code",
      "execution_count": 3,
      "metadata": {
        "colab": {
          "base_uri": "https://localhost:8080/",
          "height": 353
        },
        "id": "dzb4llYRYfR8",
        "outputId": "98ec0fa9-9c1d-4072-f6f2-3d9043aa1203"
      },
      "outputs": [
        {
          "output_type": "stream",
          "name": "stderr",
          "text": [
            "<>:31: SyntaxWarning: 'str' object is not callable; perhaps you missed a comma?\n",
            "<>:31: SyntaxWarning: 'str' object is not callable; perhaps you missed a comma?\n",
            "<ipython-input-3-0d491adf0b90>:31: SyntaxWarning: 'str' object is not callable; perhaps you missed a comma?\n",
            "  print(\"Total a pagar \"(compra))\n"
          ]
        },
        {
          "name": "stdout",
          "output_type": "stream",
          "text": [
            "codigo da mercadoria (0 para sair): 3\n",
            "Quantidade: 10\n"
          ]
        },
        {
          "output_type": "error",
          "ename": "TypeError",
          "evalue": "ignored",
          "traceback": [
            "\u001b[0;31m---------------------------------------------------------------------------\u001b[0m",
            "\u001b[0;31mTypeError\u001b[0m                                 Traceback (most recent call last)",
            "\u001b[0;32m<ipython-input-3-0d491adf0b90>\u001b[0m in \u001b[0;36m<cell line: 11>\u001b[0;34m()\u001b[0m\n\u001b[1;32m     29\u001b[0m     \u001b[0mqtd\u001b[0m \u001b[0;34m=\u001b[0m \u001b[0mint\u001b[0m\u001b[0;34m(\u001b[0m\u001b[0minput\u001b[0m\u001b[0;34m(\u001b[0m\u001b[0;34m\"Quantidade: \"\u001b[0m\u001b[0;34m)\u001b[0m\u001b[0;34m)\u001b[0m\u001b[0;34m\u001b[0m\u001b[0;34m\u001b[0m\u001b[0m\n\u001b[1;32m     30\u001b[0m     \u001b[0mcompra\u001b[0m \u001b[0;34m=\u001b[0m \u001b[0mcompra\u001b[0m \u001b[0;34m+\u001b[0m\u001b[0;34m(\u001b[0m\u001b[0mpreco\u001b[0m\u001b[0;34m*\u001b[0m\u001b[0mqtd\u001b[0m\u001b[0;34m)\u001b[0m\u001b[0;34m\u001b[0m\u001b[0;34m\u001b[0m\u001b[0m\n\u001b[0;32m---> 31\u001b[0;31m   \u001b[0mprint\u001b[0m\u001b[0;34m(\u001b[0m\u001b[0;34m\"Total a pagar \"\u001b[0m\u001b[0;34m(\u001b[0m\u001b[0mcompra\u001b[0m\u001b[0;34m)\u001b[0m\u001b[0;34m)\u001b[0m\u001b[0;34m\u001b[0m\u001b[0;34m\u001b[0m\u001b[0m\n\u001b[0m\u001b[1;32m     32\u001b[0m \u001b[0;34m\u001b[0m\u001b[0m\n\u001b[1;32m     33\u001b[0m \u001b[0;34m\u001b[0m\u001b[0m\n",
            "\u001b[0;31mTypeError\u001b[0m: 'str' object is not callable"
          ]
        }
      ],
      "source": [
        "### Escreva um programa para controlar uma pequena máquina registradora. Você deve solicitar ao usuário que digite o código do produto e a quantidade comprada.\n",
        "### Utilize a tabela de códigos a seguir para obter o preço de cada produto:\n",
        "\n",
        "### Cóigo preço 1: 0,50 2: 1,00 3: 4,00 5: 7,00 9 8,00; seu programa deve exibir o total das compras depois que o usuário digitar 0. Qualquer outro código deve gerar a mensagem\n",
        "### \"Erro código inválido\"\n",
        "\n",
        "### Code Start;\n",
        "\n",
        "compra = 0\n",
        "\n",
        "while (compra == 0):\n",
        "  codigo = int(input(\"codigo da mercadoria (0 para sair): \"))\n",
        "  preco = 0\n",
        "  if codigo == 0:\n",
        "    break\n",
        "  elif codigo == 1:\n",
        "    preco = 0.50\n",
        "  elif codigo == 2:\n",
        "    preco = 1.00\n",
        "  elif codigo == 3:\n",
        "    preco = 4.00\n",
        "  elif codigo == 5:\n",
        "    preco = 7.00\n",
        "  elif codigo == 9:\n",
        "    preco = 8.00\n",
        "  else:\n",
        "    print(\"INVALID CODE\")\n",
        "  if preco != 0:\n",
        "    qtd = int(input(\"Quantidade: \"))\n",
        "    compra = compra +(preco*qtd)\n",
        "  print(\"Total a pagar \"t (compra))\n",
        "\n",
        "\n",
        "\n",
        "\n",
        "\n",
        "\n"
      ]
    },
    {
      "cell_type": "code",
      "source": [],
      "metadata": {
        "id": "DvX4YTr1euyx"
      },
      "execution_count": null,
      "outputs": []
    }
  ]
}